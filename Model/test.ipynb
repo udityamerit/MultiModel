{
 "cells": [
  {
   "cell_type": "code",
   "execution_count": 1,
   "id": "486548f7",
   "metadata": {},
   "outputs": [
    {
     "name": "stdout",
     "output_type": "stream",
     "text": [
      "I am in classification file \n",
      "i am multimodel file\n",
      "I am in regression file \n"
     ]
    }
   ],
   "source": [
    "from multimodel import multimodel_file\n",
    "multimodel_file()"
   ]
  },
  {
   "cell_type": "code",
   "execution_count": null,
   "id": "5ad7738c",
   "metadata": {},
   "outputs": [],
   "source": []
  }
 ],
 "metadata": {
  "kernelspec": {
   "display_name": "Python 3",
   "language": "python",
   "name": "python3"
  },
  "language_info": {
   "codemirror_mode": {
    "name": "ipython",
    "version": 3
   },
   "file_extension": ".py",
   "mimetype": "text/x-python",
   "name": "python",
   "nbconvert_exporter": "python",
   "pygments_lexer": "ipython3",
   "version": "3.12.0"
  }
 },
 "nbformat": 4,
 "nbformat_minor": 5
}
