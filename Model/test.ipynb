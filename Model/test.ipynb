{
 "cells": [
  {
   "cell_type": "code",
   "execution_count": 1,
   "id": "486548f7",
   "metadata": {},
   "outputs": [
    {
     "name": "stdout",
     "output_type": "stream",
     "text": [
      "I am in classification file \n",
      "i am multimodel file\n",
      "I am in regression file \n"
     ]
    }
   ],
   "source": [
    "from multimodel import multimodel_file\n",
    "multimodel_file()"
   ]
  },
  {
   "cell_type": "code",
   "execution_count": 3,
   "id": "5ad7738c",
   "metadata": {},
   "outputs": [
    {
     "name": "stdout",
     "output_type": "stream",
     "text": [
      "Logistic Regression Accuracy: 75.32467532467533 % \n",
      "              precision    recall  f1-score   support\n",
      "\n",
      "           0       0.81      0.80      0.81        99\n",
      "           1       0.65      0.67      0.66        55\n",
      "\n",
      "    accuracy                           0.75       154\n",
      "   macro avg       0.73      0.74      0.73       154\n",
      "weighted avg       0.76      0.75      0.75       154\n",
      "\n",
      "DecisionTree Accuracy: 74.67532467532467 % \n",
      "              precision    recall  f1-score   support\n",
      "\n",
      "           0       0.83      0.77      0.80        99\n",
      "           1       0.63      0.71      0.67        55\n",
      "\n",
      "    accuracy                           0.75       154\n",
      "   macro avg       0.73      0.74      0.73       154\n",
      "weighted avg       0.76      0.75      0.75       154\n",
      "\n",
      "KNN Accuracy: 68.83116883116884 % \n",
      "              precision    recall  f1-score   support\n",
      "\n",
      "           0       0.73      0.81      0.77        99\n",
      "           1       0.58      0.47      0.52        55\n",
      "\n",
      "    accuracy                           0.69       154\n",
      "   macro avg       0.66      0.64      0.64       154\n",
      "weighted avg       0.68      0.69      0.68       154\n",
      "\n",
      "[None, None, None]\n"
     ]
    }
   ],
   "source": [
    "from multi_model import model_list\n",
    "model_list()\n"
   ]
  },
  {
   "cell_type": "code",
   "execution_count": null,
   "id": "eed0de19",
   "metadata": {},
   "outputs": [],
   "source": []
  }
 ],
 "metadata": {
  "kernelspec": {
   "display_name": "Python 3",
   "language": "python",
   "name": "python3"
  },
  "language_info": {
   "codemirror_mode": {
    "name": "ipython",
    "version": 3
   },
   "file_extension": ".py",
   "mimetype": "text/x-python",
   "name": "python",
   "nbconvert_exporter": "python",
   "pygments_lexer": "ipython3",
   "version": "3.12.0"
  }
 },
 "nbformat": 4,
 "nbformat_minor": 5
}
