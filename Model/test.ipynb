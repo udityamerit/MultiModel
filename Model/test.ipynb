{
 "cells": [
  {
   "cell_type": "code",
   "execution_count": 1,
   "id": "486548f7",
   "metadata": {},
   "outputs": [
    {
     "name": "stdout",
     "output_type": "stream",
     "text": [
      "I am in classification file \n",
      "i am multimodel file\n",
      "I am in regression file \n"
     ]
    }
   ],
   "source": [
    "from multimodel import multimodel_file\n",
    "multimodel_file()"
   ]
  },
  {
   "cell_type": "code",
   "execution_count": 2,
   "id": "5ad7738c",
   "metadata": {},
   "outputs": [
    {
     "ename": "NameError",
     "evalue": "name 'X_train_scaled' is not defined",
     "output_type": "error",
     "traceback": [
      "\u001b[1;31m---------------------------------------------------------------------------\u001b[0m",
      "\u001b[1;31mNameError\u001b[0m                                 Traceback (most recent call last)",
      "Cell \u001b[1;32mIn[2], line 2\u001b[0m\n\u001b[0;32m      1\u001b[0m \u001b[38;5;28;01mfrom\u001b[39;00m \u001b[38;5;21;01mmulti_model\u001b[39;00m \u001b[38;5;28;01mimport\u001b[39;00m model_list\n\u001b[1;32m----> 2\u001b[0m model_list()\n",
      "File \u001b[1;32mc:\\Users\\pranj\\OneDrive\\Desktop\\MultiModel-Package-for-Machine-Learning\\Model\\multi_model.py:95\u001b[0m, in \u001b[0;36mmodel_list\u001b[1;34m()\u001b[0m\n\u001b[0;32m     94\u001b[0m \u001b[38;5;28;01mdef\u001b[39;00m \u001b[38;5;21mmodel_list\u001b[39m():\n\u001b[1;32m---> 95\u001b[0m     \u001b[38;5;28mprint\u001b[39m([Regression_model(), DecisionTree_model(), KNN_model()])\n",
      "File \u001b[1;32mc:\\Users\\pranj\\OneDrive\\Desktop\\MultiModel-Package-for-Machine-Learning\\Model\\multi_model.py:70\u001b[0m, in \u001b[0;36mRegression_model\u001b[1;34m()\u001b[0m\n\u001b[0;32m     68\u001b[0m \u001b[38;5;28;01mdef\u001b[39;00m \u001b[38;5;21mRegression_model\u001b[39m():\n\u001b[0;32m     69\u001b[0m     model1 \u001b[38;5;241m=\u001b[39m LogisticRegression()\n\u001b[1;32m---> 70\u001b[0m     model1\u001b[38;5;241m.\u001b[39mfit(X_train_scaled, y_train)\n\u001b[0;32m     71\u001b[0m     y_pred_logi_test \u001b[38;5;241m=\u001b[39m model1\u001b[38;5;241m.\u001b[39mpredict(X_test_scaled)\n\u001b[0;32m     72\u001b[0m     logistic_accuracy \u001b[38;5;241m=\u001b[39m accuracy_score(y_test, y_pred_logi_test)\n",
      "\u001b[1;31mNameError\u001b[0m: name 'X_train_scaled' is not defined"
     ]
    }
   ],
   "source": [
    "from multi_model import model_list\n",
    "model_list()\n"
   ]
  },
  {
   "cell_type": "code",
   "execution_count": 1,
   "id": "eed0de19",
   "metadata": {},
   "outputs": [
    {
     "name": "stdout",
     "output_type": "stream",
     "text": [
      "<class 'pandas.core.frame.DataFrame'>\n",
      "RangeIndex: 768 entries, 0 to 767\n",
      "Data columns (total 9 columns):\n",
      " #   Column                    Non-Null Count  Dtype  \n",
      "---  ------                    --------------  -----  \n",
      " 0   Pregnancies               768 non-null    int64  \n",
      " 1   Glucose                   768 non-null    int64  \n",
      " 2   BloodPressure             768 non-null    int64  \n",
      " 3   SkinThickness             768 non-null    int64  \n",
      " 4   Insulin                   768 non-null    int64  \n",
      " 5   BMI                       768 non-null    float64\n",
      " 6   DiabetesPedigreeFunction  768 non-null    float64\n",
      " 7   Age                       768 non-null    int64  \n",
      " 8   Outcome                   768 non-null    int64  \n",
      "dtypes: float64(2), int64(7)\n",
      "memory usage: 54.1 KB\n",
      "Data spliting is done\n",
      "Size of Training dataset: 614 \n",
      "Size of Testing dataset: 154\n",
      "Feature scaling is done\n",
      "Model training is done\n",
      "Model prediction is done\n",
      "None\n"
     ]
    }
   ],
   "source": [
    "from multi_model import pre_processing\n",
    "pre_processing()"
   ]
  }
 ],
 "metadata": {
  "kernelspec": {
   "display_name": "base",
   "language": "python",
   "name": "python3"
  },
  "language_info": {
   "codemirror_mode": {
    "name": "ipython",
    "version": 3
   },
   "file_extension": ".py",
   "mimetype": "text/x-python",
   "name": "python",
   "nbconvert_exporter": "python",
   "pygments_lexer": "ipython3",
   "version": "3.12.7"
  }
 },
 "nbformat": 4,
 "nbformat_minor": 5
}
