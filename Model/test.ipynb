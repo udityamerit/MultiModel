{
 "cells": [
  {
   "cell_type": "code",
   "execution_count": 1,
   "id": "5ad7738c",
   "metadata": {},
   "outputs": [
    {
     "name": "stdout",
     "output_type": "stream",
     "text": [
      "Logistic Regression Accuracy: 75.32467532467533 % \n",
      "              precision    recall  f1-score   support\n",
      "\n",
      "           0       0.81      0.80      0.81        99\n",
      "           1       0.65      0.67      0.66        55\n",
      "\n",
      "    accuracy                           0.75       154\n",
      "   macro avg       0.73      0.74      0.73       154\n",
      "weighted avg       0.76      0.75      0.75       154\n",
      "\n",
      "DecisionTree Accuracy: 74.02597402597402 % \n",
      "              precision    recall  f1-score   support\n",
      "\n",
      "           0       0.83      0.75      0.79        99\n",
      "           1       0.62      0.73      0.67        55\n",
      "\n",
      "    accuracy                           0.74       154\n",
      "   macro avg       0.72      0.74      0.73       154\n",
      "weighted avg       0.75      0.74      0.74       154\n",
      "\n",
      "KNN Accuracy: 68.83116883116884 % \n",
      "              precision    recall  f1-score   support\n",
      "\n",
      "           0       0.73      0.81      0.77        99\n",
      "           1       0.58      0.47      0.52        55\n",
      "\n",
      "    accuracy                           0.69       154\n",
      "   macro avg       0.66      0.64      0.64       154\n",
      "weighted avg       0.68      0.69      0.68       154\n",
      "\n",
      "[None, None, None]\n"
     ]
    }
   ],
   "source": [
    "from multi_model import model_list\n",
    "model_list()\n"
   ]
  },
  {
   "cell_type": "code",
   "execution_count": 2,
   "id": "eed0de19",
   "metadata": {},
   "outputs": [
    {
     "name": "stdout",
     "output_type": "stream",
     "text": [
      "<class 'pandas.core.frame.DataFrame'>\n",
      "RangeIndex: 768 entries, 0 to 767\n",
      "Data columns (total 9 columns):\n",
      " #   Column                    Non-Null Count  Dtype  \n",
      "---  ------                    --------------  -----  \n",
      " 0   Pregnancies               768 non-null    int64  \n",
      " 1   Glucose                   768 non-null    int64  \n",
      " 2   BloodPressure             768 non-null    int64  \n",
      " 3   SkinThickness             768 non-null    int64  \n",
      " 4   Insulin                   768 non-null    int64  \n",
      " 5   BMI                       768 non-null    float64\n",
      " 6   DiabetesPedigreeFunction  768 non-null    float64\n",
      " 7   Age                       768 non-null    int64  \n",
      " 8   Outcome                   768 non-null    int64  \n",
      "dtypes: float64(2), int64(7)\n",
      "memory usage: 54.1 KB\n",
      "Data spliting is done\n",
      "Size of Training dataset: 614 \n",
      "Size of Testing dataset: 154\n",
      "Feature scaling is done\n",
      "Model training is done\n",
      "Model prediction is done\n",
      "None\n"
     ]
    }
   ],
   "source": [
    "from multi_model import pre_processing\n",
    "pre_processing()"
   ]
  }
 ],
 "metadata": {
  "kernelspec": {
   "display_name": "Python 3",
   "language": "python",
   "name": "python3"
  },
  "language_info": {
   "codemirror_mode": {
    "name": "ipython",
    "version": 3
   },
   "file_extension": ".py",
   "mimetype": "text/x-python",
   "name": "python",
   "nbconvert_exporter": "python",
   "pygments_lexer": "ipython3",
   "version": "3.12.0"
  }
 },
 "nbformat": 4,
 "nbformat_minor": 5
}
